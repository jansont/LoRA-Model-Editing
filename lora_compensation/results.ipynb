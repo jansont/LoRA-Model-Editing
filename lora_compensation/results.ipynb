{
 "cells": [
  {
   "cell_type": "code",
   "execution_count": 172,
   "metadata": {},
   "outputs": [
    {
     "name": "stdout",
     "output_type": "stream",
     "text": [
      "Requirement already satisfied: matplotlib in /Users/theojanson/Library/Caches/pypoetry/virtualenvs/lora-XfJfNtEI-py3.9/lib/python3.9/site-packages (3.7.2)\n",
      "Requirement already satisfied: fonttools>=4.22.0 in /Users/theojanson/Library/Caches/pypoetry/virtualenvs/lora-XfJfNtEI-py3.9/lib/python3.9/site-packages (from matplotlib) (4.42.1)\n",
      "Requirement already satisfied: kiwisolver>=1.0.1 in /Users/theojanson/Library/Caches/pypoetry/virtualenvs/lora-XfJfNtEI-py3.9/lib/python3.9/site-packages (from matplotlib) (1.4.5)\n",
      "Requirement already satisfied: importlib-resources>=3.2.0 in /Users/theojanson/Library/Caches/pypoetry/virtualenvs/lora-XfJfNtEI-py3.9/lib/python3.9/site-packages (from matplotlib) (6.0.1)\n",
      "Requirement already satisfied: packaging>=20.0 in /Users/theojanson/Library/Caches/pypoetry/virtualenvs/lora-XfJfNtEI-py3.9/lib/python3.9/site-packages (from matplotlib) (23.1)\n",
      "Requirement already satisfied: cycler>=0.10 in /Users/theojanson/Library/Caches/pypoetry/virtualenvs/lora-XfJfNtEI-py3.9/lib/python3.9/site-packages (from matplotlib) (0.11.0)\n",
      "Requirement already satisfied: python-dateutil>=2.7 in /Users/theojanson/Library/Caches/pypoetry/virtualenvs/lora-XfJfNtEI-py3.9/lib/python3.9/site-packages (from matplotlib) (2.8.2)\n",
      "Requirement already satisfied: numpy>=1.20 in /Users/theojanson/Library/Caches/pypoetry/virtualenvs/lora-XfJfNtEI-py3.9/lib/python3.9/site-packages (from matplotlib) (1.25.2)\n",
      "Requirement already satisfied: pillow>=6.2.0 in /Users/theojanson/Library/Caches/pypoetry/virtualenvs/lora-XfJfNtEI-py3.9/lib/python3.9/site-packages (from matplotlib) (10.0.0)\n",
      "Requirement already satisfied: contourpy>=1.0.1 in /Users/theojanson/Library/Caches/pypoetry/virtualenvs/lora-XfJfNtEI-py3.9/lib/python3.9/site-packages (from matplotlib) (1.1.0)\n",
      "Requirement already satisfied: pyparsing<3.1,>=2.3.1 in /Users/theojanson/Library/Caches/pypoetry/virtualenvs/lora-XfJfNtEI-py3.9/lib/python3.9/site-packages (from matplotlib) (3.0.9)\n",
      "Requirement already satisfied: zipp>=3.1.0 in /Users/theojanson/Library/Caches/pypoetry/virtualenvs/lora-XfJfNtEI-py3.9/lib/python3.9/site-packages (from importlib-resources>=3.2.0->matplotlib) (3.16.2)\n",
      "Requirement already satisfied: six>=1.5 in /Users/theojanson/Library/Caches/pypoetry/virtualenvs/lora-XfJfNtEI-py3.9/lib/python3.9/site-packages (from python-dateutil>=2.7->matplotlib) (1.16.0)\n",
      "\n",
      "\u001b[1m[\u001b[0m\u001b[34;49mnotice\u001b[0m\u001b[1;39;49m]\u001b[0m\u001b[39;49m A new release of pip available: \u001b[0m\u001b[31;49m22.3.1\u001b[0m\u001b[39;49m -> \u001b[0m\u001b[32;49m23.2.1\u001b[0m\n",
      "\u001b[1m[\u001b[0m\u001b[34;49mnotice\u001b[0m\u001b[1;39;49m]\u001b[0m\u001b[39;49m To update, run: \u001b[0m\u001b[32;49mpip install --upgrade pip\u001b[0m\n",
      "Note: you may need to restart the kernel to use updated packages.\n"
     ]
    }
   ],
   "source": [
    "%pip install matplotlib"
   ]
  },
  {
   "cell_type": "code",
   "execution_count": 173,
   "metadata": {},
   "outputs": [
    {
     "name": "stdout",
     "output_type": "stream",
     "text": [
      "\u001b[1m\u001b[36m__pycache__\u001b[m\u001b[m/               \u001b[1m\u001b[36mlora_compensation_results\u001b[m\u001b[m/\n",
      "\u001b[1m\u001b[36mgpt2_model\u001b[m\u001b[m/                lora_compensatory.ipynb\n",
      "hooked_lora.py             \u001b[1m\u001b[36mresults\u001b[m\u001b[m/\n",
      "hooking.py                 results.ipynb\n"
     ]
    }
   ],
   "source": [
    "%ls"
   ]
  },
  {
   "cell_type": "code",
   "execution_count": 174,
   "metadata": {},
   "outputs": [],
   "source": [
    "import os\n",
    "import torch\n",
    "import pickle\n",
    "import numpy as np\n",
    "import matplotlib.pyplot as plt"
   ]
  },
  {
   "cell_type": "code",
   "execution_count": 175,
   "metadata": {},
   "outputs": [
    {
     "data": {
      "text/plain": [
       "['lora_compensatory_adapt_all_layer_10_mlp_results.pkl',\n",
       " 'lora_compensatory_adapt_all_layer_1_mlp_results.pkl',\n",
       " 'lora_compensatory_adapt_all_layer_7_attn_results.pkl',\n",
       " 'lora_compensatory_adapt_all_layer_8_attn_results.pkl',\n",
       " 'lora_compensatory_adapt_all_layer_9_mlp_results.pkl',\n",
       " 'lora_compensatory_adapt_all_layer_3_attn_results.pkl',\n",
       " 'lora_compensatory_adapt_all_layer_6_mlp_results.pkl',\n",
       " 'lora_compensatory_adapt_all_layer_8_mlp_results.pkl',\n",
       " 'lora_compensatory_adapt_all_layer_6_attn_results.pkl',\n",
       " 'lora_compensatory_adapt_all_layer_7_mlp_results.pkl',\n",
       " 'lora_compensatory_adapt_all_layer_11_mlp_results.pkl',\n",
       " 'lora_compensatory_adapt_all_layer_0_mlp_results.pkl',\n",
       " 'lora_compensatory_adapt_all_layer_9_attn_results.pkl',\n",
       " 'lora_compensatory_adapt_all_initial_results.pkl',\n",
       " 'lora_compensatory_adapt_all_layer_2_attn_results.pkl',\n",
       " 'lora_compensatory_adapt_all_layer_5_mlp_results.pkl',\n",
       " 'lora_compensatory_adapt_all_layer_5_attn_results.pkl',\n",
       " 'lora_compensatory_adapt_all_layer_1_attn_results.pkl',\n",
       " 'lora_compensatory_adapt_all_layer_2_mlp_results.pkl',\n",
       " 'lora_compensatory_adapt_all_layer_10_attn_results.pkl',\n",
       " 'lora_compensatory_adapt_all_layer_3_mlp_results.pkl',\n",
       " 'lora_compensatory_adapt_all_layer_4_attn_results.pkl',\n",
       " 'lora_compensatory_adapt_all_layer_0_attn_results.pkl',\n",
       " 'lora_compensatory_adapt_all_layer_4_mlp_results.pkl',\n",
       " 'lora_compensatory_adapt_all_layer_11_attn_results.pkl']"
      ]
     },
     "execution_count": 175,
     "metadata": {},
     "output_type": "execute_result"
    }
   ],
   "source": [
    "path = \"lora_compensation_results/\"\n",
    "files = os.listdir(path)\n",
    "files"
   ]
  },
  {
   "cell_type": "code",
   "execution_count": 176,
   "metadata": {},
   "outputs": [],
   "source": [
    "def load_pickle(file_path):\n",
    "    with open(file_path, 'rb') as file:\n",
    "        loaded_object = pickle.load(file)\n",
    "    return loaded_object\n",
    "\n",
    "\n",
    "res1 = load_pickle(path+\"lora_compensatory_adapt_all_initial_results.pkl\")\n",
    "results = [res1]\n",
    "for i in range(12*2):\n",
    "    if i % 2 == 0: \n",
    "        res = load_pickle(path+f\"lora_compensatory_adapt_all_layer_{i//2}_attn_results.pkl\") \n",
    "    else: \n",
    "        res = load_pickle(path+f\"lora_compensatory_adapt_all_layer_{i//2}_mlp_results.pkl\")\n",
    "    results.append(res)"
   ]
  },
  {
   "cell_type": "code",
   "execution_count": 177,
   "metadata": {},
   "outputs": [],
   "source": [
    "total_reference_new_logits = []\n",
    "total_reference_target_logits = []\n",
    "total_ablate_new_logits = []\n",
    "total_ablate_target_logits = []\n",
    "total_reference_decomposed_residual_new = []\n",
    "total_reference_decomposed_residual_target = []\n",
    "total_ablate_decomposed_residual_new = []\n",
    "total_ablate_decomposed_residual_target = []\n",
    "\n",
    "for result in results: \n",
    "    \n",
    "    all_reference_new_logits = []\n",
    "    all_reference_target_logits = []\n",
    "    all_ablate_new_logits = []\n",
    "    all_ablate_target_logits = []\n",
    "    all_reference_decomposed_residual_new = []\n",
    "    all_reference_decomposed_residual_target = []\n",
    "    all_ablate_decomposed_residual_new = []\n",
    "    all_ablate_decomposed_residual_target = []\n",
    "    \n",
    "\n",
    "    for sample in result:\n",
    "        \n",
    "        reference_new_logit = sample[\"reference_new_logit\"]\n",
    "        reference_target_logit = sample[\"reference_target_logit\"]\n",
    "        ablate_new_logit = sample[\"ablate_new_logit\"]\n",
    "        ablate_target_logit = sample[\"ablate_target_logit\"]\n",
    "        reference_decomposed_residual_new = sample[\"reference_decomposed_residual_new\"]\n",
    "        reference_decomposed_residual_target = sample[\"reference_decomposed_residual_target\"]\n",
    "        ablate_decomposed_residual_new = sample[\"ablate_decomposed_residual_new\"]\n",
    "        ablate_decomposed_residual_target = sample[\"ablate_decomposed_residual_target\"]\n",
    "        \n",
    "        all_reference_new_logits.append(reference_new_logit)\n",
    "        all_reference_target_logits.append(reference_target_logit)\n",
    "        all_ablate_new_logits.append(ablate_new_logit)\n",
    "        all_ablate_target_logits.append(ablate_target_logit)\n",
    "        all_reference_decomposed_residual_new.append(reference_decomposed_residual_new)\n",
    "        all_reference_decomposed_residual_target.append(reference_decomposed_residual_target)\n",
    "        all_ablate_decomposed_residual_new.append(ablate_decomposed_residual_new)\n",
    "        all_ablate_decomposed_residual_target.append(ablate_decomposed_residual_target)\n",
    "\n",
    "    all_reference_new_logits = torch.stack(all_reference_new_logits, dim=0)\n",
    "    all_reference_target_logits = torch.stack(all_reference_target_logits, dim=0)\n",
    "    all_ablate_new_logits = torch.stack(all_ablate_new_logits, dim=0)\n",
    "    all_ablate_target_logits = torch.stack(all_ablate_target_logits, dim=0)\n",
    "    all_reference_decomposed_residual_new = torch.stack(all_reference_decomposed_residual_new, dim=0)\n",
    "    all_reference_decomposed_residual_target = torch.stack(all_reference_decomposed_residual_target, dim=0)\n",
    "    all_ablate_decomposed_residual_new = torch.stack(all_ablate_decomposed_residual_new, dim=0)\n",
    "    all_ablate_decomposed_residual_target = torch.stack(all_ablate_decomposed_residual_target, dim=0)\n",
    "    \n",
    "    total_reference_new_logits.append(all_reference_new_logits)\n",
    "    total_reference_target_logits.append(all_reference_target_logits)\n",
    "    total_ablate_new_logits.append(all_ablate_new_logits)\n",
    "    total_ablate_target_logits.append(all_ablate_target_logits)\n",
    "    total_reference_decomposed_residual_new.append(all_reference_decomposed_residual_new)\n",
    "    total_reference_decomposed_residual_target.append(all_reference_decomposed_residual_target)\n",
    "    total_ablate_decomposed_residual_new.append(all_ablate_decomposed_residual_new)\n",
    "    total_ablate_decomposed_residual_target.append(all_ablate_decomposed_residual_target)\n",
    "    \n",
    "total_reference_new_logits = torch.stack(total_reference_new_logits, dim=0)\n",
    "total_reference_target_logits = torch.stack(total_reference_target_logits, dim=0)\n",
    "total_ablate_new_logits = torch.stack(total_ablate_new_logits, dim=0)\n",
    "total_ablate_target_logits = torch.stack(total_ablate_target_logits, dim=0)\n",
    "total_reference_decomposed_residual_new = torch.stack(total_reference_decomposed_residual_new, dim=0)\n",
    "total_reference_decomposed_residual_target = torch.stack(total_reference_decomposed_residual_target, dim=0)\n",
    "total_ablate_decomposed_residual_new = torch.stack(total_ablate_decomposed_residual_new, dim=0)\n",
    "total_ablate_decomposed_residual_target = torch.stack(total_ablate_decomposed_residual_target, dim=0)    "
   ]
  },
  {
   "cell_type": "code",
   "execution_count": 185,
   "metadata": {},
   "outputs": [
    {
     "name": "stdout",
     "output_type": "stream",
     "text": [
      "torch.Size([99, 24, 1])\n",
      "torch.Size([99, 24, 1])\n",
      "torch.Size([99, 24, 1])\n",
      "torch.Size([99, 24, 1])\n",
      "torch.Size([99, 24, 24])\n",
      "torch.Size([99, 24, 24])\n",
      "torch.Size([99, 24, 24])\n",
      "torch.Size([99, 24, 24])\n"
     ]
    }
   ],
   "source": [
    "print(total_reference_new_logits.shape)\n",
    "print(total_reference_target_logits.shape)\n",
    "print(total_ablate_new_logits.shape)\n",
    "print(total_ablate_target_logits.shape)\n",
    "print(total_reference_decomposed_residual_new.shape)\n",
    "print(total_reference_decomposed_residual_target.shape)\n",
    "print(total_ablate_decomposed_residual_new.shape)\n",
    "print(total_ablate_decomposed_residual_target.shape)"
   ]
  },
  {
   "cell_type": "code",
   "execution_count": 179,
   "metadata": {},
   "outputs": [],
   "source": [
    "total_reference_new_logits = total_reference_new_logits.transpose(0, 1)\n",
    "total_reference_target_logits = total_reference_target_logits.transpose(0, 1)\n",
    "total_ablate_new_logits = total_ablate_new_logits.transpose(0, 1)\n",
    "total_ablate_target_logits = total_ablate_target_logits.transpose(0, 1)\n",
    "total_reference_decomposed_residual_new = total_reference_decomposed_residual_new.transpose(0, 1)\n",
    "total_reference_decomposed_residual_target = total_reference_decomposed_residual_target.transpose(0, 1)\n",
    "total_ablate_decomposed_residual_new = total_ablate_decomposed_residual_new.transpose(0, 1)\n",
    "total_ablate_decomposed_residual_target = total_ablate_decomposed_residual_target.transpose(0, 1)"
   ]
  },
  {
   "cell_type": "code",
   "execution_count": 180,
   "metadata": {},
   "outputs": [],
   "source": [
    "layer_names = []\n",
    "for i in range(24): \n",
    "    if i % 2 == 0: \n",
    "        layer_names.append(f\"{i//2}_attn\")\n",
    "    else:\n",
    "        layer_names.append(f\"{i//2}_mlp\")\n",
    "attn_mask = torch.tensor([\"attn\" in layer_name for layer_name in layer_names])\n",
    "mlp_mask = torch.tensor([\"mlp\" in layer_name for layer_name in layer_names])\n"
   ]
  },
  {
   "cell_type": "code",
   "execution_count": 181,
   "metadata": {},
   "outputs": [],
   "source": [
    "no_training_total_reference_new_logits = total_reference_new_logits[:,0]\n",
    "no_training_total_reference_target_logits = total_reference_target_logits[:,0]\n",
    "no_training_total_ablate_new_logits = total_ablate_new_logits[:,0]\n",
    "no_training_total_ablate_target_logits = total_ablate_target_logits[:,0]\n",
    "no_training_total_reference_decomposed_residual_new = total_reference_decomposed_residual_new[:,0][:,2:]\n",
    "no_training_total_reference_decomposed_residual_target = total_reference_decomposed_residual_target[:,0][:,2:]\n",
    "no_training_total_ablate_decomposed_residual_new = total_ablate_decomposed_residual_new[:,0][:,2:]\n",
    "no_training_total_ablate_decomposed_residual_target = total_ablate_decomposed_residual_target[:,0][:,2:]\n",
    "\n"
   ]
  },
  {
   "cell_type": "code",
   "execution_count": 199,
   "metadata": {},
   "outputs": [
    {
     "name": "stdout",
     "output_type": "stream",
     "text": [
      "torch.Size([99, 1])\n",
      "torch.Size([99, 1])\n",
      "torch.Size([99, 1])\n",
      "torch.Size([99, 1])\n",
      "torch.Size([99, 24])\n",
      "torch.Size([99, 24])\n",
      "torch.Size([99, 24])\n",
      "torch.Size([99, 24])\n"
     ]
    }
   ],
   "source": [
    "print(no_training_total_reference_new_logits.shape)\n",
    "print(no_training_total_reference_target_logits.shape)\n",
    "print(no_training_total_ablate_new_logits.shape)\n",
    "print(no_training_total_ablate_target_logits.shape)\n",
    "print(no_training_total_reference_decomposed_residual_new.shape)\n",
    "print(no_training_total_reference_decomposed_residual_target.shape)\n",
    "print(no_training_total_ablate_decomposed_residual_new.shape)\n",
    "print(no_training_total_ablate_decomposed_residual_target.shape)"
   ]
  },
  {
   "cell_type": "code",
   "execution_count": 184,
   "metadata": {},
   "outputs": [],
   "source": [
    "total_reference_new_logits = total_reference_new_logits[:,1:,:]\n",
    "total_reference_target_logits = total_reference_target_logits[:,1:,:]\n",
    "total_ablate_new_logits = total_ablate_new_logits[:,1:,:]\n",
    "total_ablate_target_logits = total_ablate_target_logits[:,1:,:]\n",
    "\n",
    "total_reference_decomposed_residual_new = total_reference_decomposed_residual_new[:,1:,2:]\n",
    "total_reference_decomposed_residual_target = total_reference_decomposed_residual_target[:,1:,2:]\n",
    "total_ablate_decomposed_residual_new = total_ablate_decomposed_residual_new[:,1:,2:]\n",
    "total_ablate_decomposed_residual_target = total_ablate_decomposed_residual_target[:,1:,2:]\n"
   ]
  },
  {
   "cell_type": "code",
   "execution_count": 186,
   "metadata": {},
   "outputs": [
    {
     "name": "stdout",
     "output_type": "stream",
     "text": [
      "torch.Size([99, 24, 1])\n",
      "torch.Size([99, 24, 1])\n",
      "torch.Size([99, 24, 1])\n",
      "torch.Size([99, 24, 1])\n",
      "torch.Size([99, 24, 24])\n",
      "torch.Size([99, 24, 24])\n",
      "torch.Size([99, 24, 24])\n",
      "torch.Size([99, 24, 24])\n"
     ]
    }
   ],
   "source": [
    "print(total_reference_new_logits.shape)\n",
    "print(total_reference_target_logits.shape)\n",
    "print(total_ablate_new_logits.shape)\n",
    "print(total_ablate_target_logits.shape)\n",
    "print(total_reference_decomposed_residual_new.shape)\n",
    "print(total_reference_decomposed_residual_target.shape)\n",
    "print(total_ablate_decomposed_residual_new.shape)\n",
    "print(total_ablate_decomposed_residual_target.shape)"
   ]
  },
  {
   "cell_type": "code",
   "execution_count": 202,
   "metadata": {},
   "outputs": [
    {
     "data": {
      "text/plain": [
       "torch.Size([99, 1])"
      ]
     },
     "execution_count": 202,
     "metadata": {},
     "output_type": "execute_result"
    }
   ],
   "source": [
    "no_training_total_reference_new_logits.shape"
   ]
  },
  {
   "cell_type": "code",
   "execution_count": 210,
   "metadata": {},
   "outputs": [],
   "source": [
    "direct_effect =  torch.diagonal(total_ablate_decomposed_residual_new, dim1=1, dim2=2) - torch.diagonal(total_reference_decomposed_residual_new, dim1=1, dim2=2)\n",
    "total_effect = total_ablate_new_logits - total_reference_target_logits\n"
   ]
  },
  {
   "cell_type": "code",
   "execution_count": 211,
   "metadata": {},
   "outputs": [
    {
     "data": {
      "image/png": "[encoded data removed]",
      "text/plain": [
       "<Figure size 500x300 with 2 Axes>"
      ]
     },
     "metadata": {},
     "output_type": "display_data"
    }
   ],
   "source": [
    "delta_ablate = total_effect\n",
    "delta_unembed = direct_effect\n",
    "batch = delta_ablate.shape[0]\n",
    "\n",
    "fig = plt.figure(figsize=(5, 3))\n",
    "for i in range(batch): \n",
    "    x = delta_unembed[i]\n",
    "    y = delta_ablate[i]\n",
    "    layer_colors = plt.cm.viridis(np.linspace(0, 1, x.shape[-1]))\n",
    "    plt.scatter(x = x, y = y, c=layer_colors, s=10, marker='o', alpha=0.7)\n",
    "    \n",
    "min_val = min(delta_unembed.min(), delta_ablate.min())\n",
    "max_val = max(delta_unembed.max(), delta_ablate.max())\n",
    "\n",
    "plt.ylabel(\"Δ Ablate (Total Effect)\")\n",
    "plt.xlabel(\"Δ Unembed (Direct Effect)\")\n",
    "\n",
    "magnitude_axis=2\n",
    "plt.xlim(-magnitude_axis, magnitude_axis)\n",
    "plt.ylim(-magnitude_axis, max_val)\n",
    "\n",
    "# Set the limits for the dashed line to go through zero and extend on both sides\n",
    "line_min = min(min_val, 0)\n",
    "line_max = max(max_val, 0)\n",
    "plt.plot([line_min, line_max], [line_min, line_max], color='black', linestyle='dashed', alpha=0.5)\n",
    "cax = fig.add_axes([0.99, 0.15, 0.02, 0.7])  # Adjust the position and size as needed\n",
    "cbar = plt.colorbar(plt.cm.ScalarMappable(cmap=plt.cm.viridis), cax=cax)\n",
    "tick_locations = np.linspace(0, 1, 8)  # Adjust the number of ticks as needed\n",
    "tick_labels = np.arange(0, 36, 5)\n",
    "cbar.set_ticks(tick_locations)\n",
    "cbar.set_ticklabels(tick_labels)\n",
    "cbar.set_label('Layer')\n",
    "plt.show()"
   ]
  },
  {
   "cell_type": "code",
   "execution_count": null,
   "metadata": {},
   "outputs": [],
   "source": []
  }
 ],
 "metadata": {
  "kernelspec": {
   "display_name": "lora-XfJfNtEI-py3.9",
   "language": "python",
   "name": "python3"
  },
  "language_info": {
   "codemirror_mode": {
    "name": "ipython",
    "version": 3
   },
   "file_extension": ".py",
   "mimetype": "text/x-python",
   "name": "python",
   "nbconvert_exporter": "python",
   "pygments_lexer": "ipython3",
   "version": "3.9.12"
  },
  "orig_nbformat": 4
 },
 "nbformat": 4,
 "nbformat_minor": 2
}
